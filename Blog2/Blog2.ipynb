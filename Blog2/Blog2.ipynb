{
 "cells": [
  {
   "cell_type": "code",
   "execution_count": 1,
   "metadata": {},
   "outputs": [
    {
     "name": "stdout",
     "output_type": "stream",
     "text": [
      "pandas 2.0.0rc0\n",
      "numpy 1.22.0\n"
     ]
    }
   ],
   "source": [
    "import pandas as pd\n",
    "import numpy as np\n",
    "print('pandas', pd.__version__)\n",
    "print('numpy', np.__version__)"
   ]
  },
  {
   "cell_type": "code",
   "execution_count": 2,
   "metadata": {},
   "outputs": [
    {
     "name": "stdout",
     "output_type": "stream",
     "text": [
      "<class 'pandas.core.frame.DataFrame'>\n",
      "RangeIndex: 102816 entries, 0 to 102815\n",
      "Data columns (total 22 columns):\n",
      " #   Column    Non-Null Count   Dtype  \n",
      "---  ------    --------------   -----  \n",
      " 0   playerID  102816 non-null  object \n",
      " 1   yearID    102816 non-null  int64  \n",
      " 2   stint     102816 non-null  int64  \n",
      " 3   teamID    102816 non-null  object \n",
      " 4   lgID      102079 non-null  object \n",
      " 5   G         102816 non-null  int64  \n",
      " 6   AB        102816 non-null  int64  \n",
      " 7   R         102816 non-null  int64  \n",
      " 8   H         102816 non-null  int64  \n",
      " 9   2B        102816 non-null  int64  \n",
      " 10  3B        102816 non-null  int64  \n",
      " 11  HR        102816 non-null  int64  \n",
      " 12  RBI       102392 non-null  float64\n",
      " 13  SB        101516 non-null  float64\n",
      " 14  CS        79360 non-null   float64\n",
      " 15  BB        102816 non-null  int64  \n",
      " 16  SO        94978 non-null   float64\n",
      " 17  IBB       66251 non-null   float64\n",
      " 18  HBP       100006 non-null  float64\n",
      " 19  SH        96478 non-null   float64\n",
      " 20  SF        66782 non-null   float64\n",
      " 21  GIDP      76706 non-null   float64\n",
      "dtypes: float64(9), int64(10), object(3)\n",
      "memory usage: 17.3+ MB\n"
     ]
    }
   ],
   "source": [
    "df = pd.read_csv('data/Batting.csv')\n",
    "df.info()"
   ]
  },
  {
   "cell_type": "code",
   "execution_count": 3,
   "metadata": {
    "scrolled": true
   },
   "outputs": [],
   "source": [
    "pd.options.mode.dtype_backend = 'pyarrow'\n",
    "\n",
    "df_v2 = pd.read_csv('data/Batting.csv', engine='pyarrow', use_nullable_dtypes=True)"
   ]
  },
  {
   "cell_type": "code",
   "execution_count": 4,
   "metadata": {
    "scrolled": true
   },
   "outputs": [
    {
     "name": "stdout",
     "output_type": "stream",
     "text": [
      "<class 'pandas.core.frame.DataFrame'>\n",
      "RangeIndex: 102816 entries, 0 to 102815\n",
      "Data columns (total 22 columns):\n",
      " #   Column    Non-Null Count   Dtype          \n",
      "---  ------    --------------   -----          \n",
      " 0   playerID  102816 non-null  string[pyarrow]\n",
      " 1   yearID    102816 non-null  int64[pyarrow] \n",
      " 2   stint     102816 non-null  int64[pyarrow] \n",
      " 3   teamID    102816 non-null  string[pyarrow]\n",
      " 4   lgID      102816 non-null  string[pyarrow]\n",
      " 5   G         102816 non-null  int64[pyarrow] \n",
      " 6   AB        102816 non-null  int64[pyarrow] \n",
      " 7   R         102816 non-null  int64[pyarrow] \n",
      " 8   H         102816 non-null  int64[pyarrow] \n",
      " 9   2B        102816 non-null  int64[pyarrow] \n",
      " 10  3B        102816 non-null  int64[pyarrow] \n",
      " 11  HR        102816 non-null  int64[pyarrow] \n",
      " 12  RBI       102392 non-null  int64[pyarrow] \n",
      " 13  SB        101516 non-null  int64[pyarrow] \n",
      " 14  CS        79360 non-null   int64[pyarrow] \n",
      " 15  BB        102816 non-null  int64[pyarrow] \n",
      " 16  SO        94978 non-null   int64[pyarrow] \n",
      " 17  IBB       66251 non-null   int64[pyarrow] \n",
      " 18  HBP       100006 non-null  int64[pyarrow] \n",
      " 19  SH        96478 non-null   int64[pyarrow] \n",
      " 20  SF        66782 non-null   int64[pyarrow] \n",
      " 21  GIDP      76706 non-null   int64[pyarrow] \n",
      "dtypes: int64[pyarrow](19), string[pyarrow](3)\n",
      "memory usage: 17.5 MB\n"
     ]
    }
   ],
   "source": [
    "df_v2.info()"
   ]
  },
  {
   "cell_type": "code",
   "execution_count": 11,
   "metadata": {},
   "outputs": [
    {
     "name": "stdout",
     "output_type": "stream",
     "text": [
      "NumPy:\n",
      "92.5 ms ± 765 µs per loop (mean ± std. dev. of 7 runs, 10 loops each)\n",
      "Arrow:\n",
      "26.4 ms ± 344 µs per loop (mean ± std. dev. of 7 runs, 10 loops each)\n"
     ]
    }
   ],
   "source": [
    "print(\"NumPy:\")\n",
    "%timeit df = pd.read_csv('data/Batting.csv')\n",
    "print(\"Arrow:\")\n",
    "%timeit df_v2 = pd.read_csv('data/Batting.csv', engine='pyarrow', use_nullable_dtypes=True)"
   ]
  },
  {
   "cell_type": "code",
   "execution_count": 12,
   "metadata": {},
   "outputs": [
    {
     "name": "stdout",
     "output_type": "stream",
     "text": [
      "NumPy:\n",
      "158 µs ± 1.28 µs per loop (mean ± std. dev. of 7 runs, 10000 loops each)\n",
      "Arrow:\n",
      "63.7 µs ± 329 ns per loop (mean ± std. dev. of 7 runs, 10000 loops each)\n"
     ]
    }
   ],
   "source": [
    "print(\"NumPy:\")\n",
    "%timeit df['AB'].mean()\n",
    "print(\"Arrow:\")\n",
    "%timeit df_v2['AB'].mean()"
   ]
  },
  {
   "cell_type": "code",
   "execution_count": 13,
   "metadata": {},
   "outputs": [
    {
     "name": "stdout",
     "output_type": "stream",
     "text": [
      "NumPy:\n",
      "156 µs ± 1.42 µs per loop (mean ± std. dev. of 7 runs, 10000 loops each)\n",
      "Arrow:\n",
      "63.7 µs ± 343 ns per loop (mean ± std. dev. of 7 runs, 10000 loops each)\n"
     ]
    }
   ],
   "source": [
    "df['AB'] = df['AB'].astype(float)\n",
    "df_v2['AB'] = df_v2['AB'].astype('float64[pyarrow]')\n",
    "print(\"NumPy:\")\n",
    "%timeit df['AB'].mean()\n",
    "print(\"Arrow:\")\n",
    "%timeit df_v2['AB'].mean()"
   ]
  },
  {
   "cell_type": "code",
   "execution_count": 9,
   "metadata": {},
   "outputs": [
    {
     "name": "stdout",
     "output_type": "stream",
     "text": [
      "NumPy:\n",
      "18 ms ± 132 µs per loop (mean ± std. dev. of 7 runs, 100 loops each)\n",
      "Arrow:\n",
      "358 µs ± 5.67 µs per loop (mean ± std. dev. of 7 runs, 1000 loops each)\n"
     ]
    }
   ],
   "source": [
    "print(\"NumPy:\")\n",
    "%timeit df['playerID'].str.startswith('jeter')\n",
    "print(\"Arrow:\")\n",
    "%timeit df_v2['playerID'].str.startswith('jeter')"
   ]
  },
  {
   "cell_type": "code",
   "execution_count": 17,
   "metadata": {},
   "outputs": [
    {
     "data": {
      "text/plain": [
       "(3.35, 2.48, 1.27, 48.84)"
      ]
     },
     "execution_count": 17,
     "metadata": {},
     "output_type": "execute_result"
    }
   ],
   "source": [
    "import_time = round(98.2/29.3, 2)\n",
    "mean_float_time = round(167/67.4, 2)\n",
    "mean_int_time = round(89.9/70.6, 2)\n",
    "str_time = round(18900/387, 2) # ms / µs\n",
    "import_time, mean_float_time, mean_int_time, str_time"
   ]
  },
  {
   "attachments": {},
   "cell_type": "markdown",
   "metadata": {},
   "source": [
    "| Task | NumPy Time | Arrow Time | Increase |\n",
    "| --- | :-: | :-: | :-: |\n",
    "| Import CSV (6MB) | 98.2 ms | 29.3 ms | 3.3x |\n",
    "| Mean (float64) | 167 µs | 67.4 µs | 2.5x |\n",
    "| Mean (int64) | 89.9 µs | 70.6 µs | 1.3x |\n",
    "| startswith (string) | 18.9 ms | 387 µs | 49x |"
   ]
  }
 ],
 "metadata": {
  "kernelspec": {
   "display_name": "test-env",
   "language": "python",
   "name": "python3"
  },
  "language_info": {
   "codemirror_mode": {
    "name": "ipython",
    "version": 3
   },
   "file_extension": ".py",
   "mimetype": "text/x-python",
   "name": "python",
   "nbconvert_exporter": "python",
   "pygments_lexer": "ipython3",
   "version": "3.8.5"
  }
 },
 "nbformat": 4,
 "nbformat_minor": 4
}
